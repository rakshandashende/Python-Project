{
 "cells": [
  {
   "cell_type": "code",
   "execution_count": 29,
   "metadata": {},
   "outputs": [
    {
     "name": "stdout",
     "output_type": "stream",
     "text": [
      "Enter your name :22\n",
      "Enter your age :22\n",
      "Your current age is 22\n",
      "Current year is :  2018\n",
      "Your age after when you are in 100 year : 2096\n"
     ]
    }
   ],
   "source": [
    "# 1. Create a program that asks the user to enter their name and their age.\n",
    "#Print out a message addressed to them that tells them the year that they will turn 100 years old.\n",
    "\n",
    "\n",
    "\n",
    "from datetime import date\n",
    "\n",
    "user_name=input(\"Enter your name :\")\n",
    "user_age=int(input(\"Enter your age :\"))\n",
    "\n",
    "print( \"Your current age is\",user_age)\n",
    "\n",
    "today_date=date.today()\n",
    "\n",
    "c_year = int( date.today().year )\n",
    "print(\"Current year is : \", c_year)\n",
    "\n",
    "x=int(c_year-user_age)+100\n",
    "print(\"Your age after when you are in 100 year :\", x)\n",
    "\n",
    "\n"
   ]
  },
  {
   "cell_type": "code",
   "execution_count": null,
   "metadata": {},
   "outputs": [],
   "source": []
  },
  {
   "cell_type": "code",
   "execution_count": 3,
   "metadata": {},
   "outputs": [
    {
     "name": "stdout",
     "output_type": "stream",
     "text": [
      "3.7.0 (default, Jun 28 2018, 07:39:16) \n",
      "[Clang 4.0.1 (tags/RELEASE_401/final)]\n"
     ]
    }
   ],
   "source": [
    "# 2. Write a Python program to get the Python version you are using.\n",
    "\n",
    "import sys\n",
    "print(sys.version)\n"
   ]
  },
  {
   "cell_type": "code",
   "execution_count": null,
   "metadata": {},
   "outputs": [],
   "source": []
  },
  {
   "cell_type": "code",
   "execution_count": 15,
   "metadata": {},
   "outputs": [
    {
     "name": "stdout",
     "output_type": "stream",
     "text": [
      "Twinkle, twinkle, little star,\n",
      " \t How I wonder what you are! \n",
      " \t\t Up above the world so high,\n",
      " \t\t Like a diamond in the sky. \n",
      " Twinkle, twinkle, little star, \n",
      " \t How I wonder what you are\n"
     ]
    }
   ],
   "source": [
    "# 3. Write a Python program to print the following string in a specific format (see the output). Go to the editor\n",
    "# Sample String : \"Twinkle, twinkle, little star, How I wonder what you are! Up above the world so high, Like a diamond in the sky. Twinkle, twinkle, little star, How I wonder what you are\" Output :\n",
    "\n",
    "# Twinkle, twinkle, little star,\n",
    "# \tHow I wonder what you are! \n",
    "# \t\tUp above the world so high,   \t\t\n",
    "# \t\tLike a diamond in the sky. \n",
    "# Twinkle, twinkle, little star, \n",
    "# \tHow I wonder what you are\n",
    "\n",
    "print(\"Twinkle, twinkle, little star,\\n \\t How I wonder what you are! \\n \\t\\t Up above the world so high,\\n \\t\\t Like a diamond in the sky. \\n Twinkle, twinkle, little star, \\n \\t How I wonder what you are\")\n"
   ]
  },
  {
   "cell_type": "code",
   "execution_count": null,
   "metadata": {},
   "outputs": [],
   "source": []
  },
  {
   "cell_type": "code",
   "execution_count": 33,
   "metadata": {},
   "outputs": [
    {
     "name": "stdout",
     "output_type": "stream",
     "text": [
      "Enetr the number to check number is even or odd : 44\n",
      "44\n",
      "Number is Even.\n"
     ]
    }
   ],
   "source": [
    "# 4. Odd or Even\n",
    "# Ask the user for a number. \n",
    "#Depending on whether the number is even or odd, print out an appropriate message to the user.\n",
    "\n",
    "\n",
    "num=int(input(\"Enetr the number to check number is even or odd : \"))\n",
    "print(num)\n",
    "\n",
    "if num%2==0:\n",
    "    print(\"Number is Even.\")\n",
    "else:\n",
    "    print(\"Number is Odd.\")"
   ]
  },
  {
   "cell_type": "code",
   "execution_count": null,
   "metadata": {},
   "outputs": [],
   "source": []
  },
  {
   "cell_type": "code",
   "execution_count": 37,
   "metadata": {},
   "outputs": [
    {
     "name": "stdout",
     "output_type": "stream",
     "text": [
      "Enter the radius : \n",
      "2\n",
      "Area of Cirecle :  12.566370614359172\n"
     ]
    }
   ],
   "source": [
    "# 5. Write a Python program which accepts the radius of a circle from the user and compute the area\n",
    "# Sample Output : \n",
    "# r = 1.1\n",
    "# Area = 3.8013271108436504\n",
    "import math\n",
    "print(\"Enter the radius : \")\n",
    "radius=int(input())\n",
    "area=math.pi*radius*radius\n",
    "print(\"Area of Cirecle : \" ,area)"
   ]
  },
  {
   "cell_type": "code",
   "execution_count": null,
   "metadata": {},
   "outputs": [],
   "source": []
  },
  {
   "cell_type": "code",
   "execution_count": 1,
   "metadata": {},
   "outputs": [
    {
     "name": "stdout",
     "output_type": "stream",
     "text": [
      "enter the values2,3,4,4\n",
      "list:  ['2', '3', '4', '4']\n",
      "tuple:  ('2', '3', '4', '4')\n"
     ]
    }
   ],
   "source": [
    "# 6. Write a Python program which accepts a sequence of comma-separated numbers from user and \n",
    "# generate a list and a tuple with those numbers\n",
    "# Sample data : 3, 5, 7, 23\n",
    "# Output : \n",
    "# List : ['3', ' 5', ' 7', ' 23'] \n",
    "# Tuple : ('3', ' 5', ' 7', ' 23')\n",
    "\n",
    "\n",
    "numbers = input(\"enter the values\")\n",
    "list_num = numbers.split(\",\")\n",
    "tuple_num= tuple(numbers.split(\",\"))\n",
    "print(\"list: \",list_num)\n",
    "print(\"tuple: \",tuple_num)"
   ]
  },
  {
   "cell_type": "code",
   "execution_count": null,
   "metadata": {},
   "outputs": [],
   "source": []
  },
  {
   "cell_type": "code",
   "execution_count": 6,
   "metadata": {},
   "outputs": [
    {
     "name": "stdout",
     "output_type": "stream",
     "text": [
      "Enter the file name to know the extension of file :  gfg.java\n",
      "['gfg', 'java']\n",
      "java\n"
     ]
    }
   ],
   "source": [
    "# 7. Write a Python program to accept a filename from the user and print the extension of that. \n",
    "\n",
    "file_name=input(\"Enter the file name to know the extension of file :  \")\n",
    "\n",
    "file_extension=file_name.split(\".\")\n",
    "print(file_extension)\n",
    "\n",
    "print(file_extension[len(file_extension)-1])"
   ]
  },
  {
   "cell_type": "code",
   "execution_count": null,
   "metadata": {},
   "outputs": [],
   "source": []
  },
  {
   "cell_type": "code",
   "execution_count": null,
   "metadata": {},
   "outputs": [],
   "source": []
  }
 ],
 "metadata": {
  "kernelspec": {
   "display_name": "Python 3",
   "language": "python",
   "name": "python3"
  },
  "language_info": {
   "codemirror_mode": {
    "name": "ipython",
    "version": 3
   },
   "file_extension": ".py",
   "mimetype": "text/x-python",
   "name": "python",
   "nbconvert_exporter": "python",
   "pygments_lexer": "ipython3",
   "version": "3.7.0"
  }
 },
 "nbformat": 4,
 "nbformat_minor": 2
}
