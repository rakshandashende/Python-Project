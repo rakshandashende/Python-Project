{
 "cells": [
  {
   "cell_type": "code",
   "execution_count": 24,
   "metadata": {},
   "outputs": [
    {
     "name": "stdout",
     "output_type": "stream",
     "text": [
      "Enter your name :Rakshanda\n",
      "Enter your age :22\n",
      "Your current age is 22\n",
      "Current year is :  2018\n",
      "Your age after when you are in 100 year : 2096\n"
     ]
    }
   ],
   "source": [
    "# 1. Create a program that asks the user to enter their name and their age.\n",
    "#Print out a message addressed to them that tells them the year that they will turn 100 years old.\n",
    "\n",
    "\n",
    "\n",
    "from datetime import date\n",
    "\n",
    "user_name=input(\"Enter your name :\")\n",
    "user_age=int(input(\"Enter your age :\"))\n",
    "\n",
    "print( \"Your current age is\",user_age)\n",
    "\n",
    "today_date=date.today()\n",
    "\n",
    "c_year = int( date.today().year )\n",
    "print(\"Current year is : \", c_year)\n",
    "\n",
    "x=int(c_year-user_age)+100\n",
    "print(\"Your age after when you are in 100 year :\", x)\n",
    "\n",
    "\n"
   ]
  },
  {
   "cell_type": "code",
   "execution_count": null,
   "metadata": {},
   "outputs": [],
   "source": []
  },
  {
   "cell_type": "code",
   "execution_count": 23,
   "metadata": {},
   "outputs": [
    {
     "name": "stdout",
     "output_type": "stream",
     "text": [
      "3.7.0 (default, Jun 28 2018, 07:39:16) \n",
      "[Clang 4.0.1 (tags/RELEASE_401/final)]\n"
     ]
    }
   ],
   "source": [
    "# 2. Write a Python program to get the Python version you are using.\n",
    "\n",
    "import sys\n",
    "print(sys.version)\n"
   ]
  },
  {
   "cell_type": "code",
   "execution_count": null,
   "metadata": {},
   "outputs": [],
   "source": []
  },
  {
   "cell_type": "code",
   "execution_count": 25,
   "metadata": {},
   "outputs": [
    {
     "name": "stdout",
     "output_type": "stream",
     "text": [
      "Twinkle, twinkle, little star,\n",
      " \t How I wonder what you are! \n",
      " \t\t Up above the world so high,\n",
      " \t\t Like a diamond in the sky. \n",
      " Twinkle, twinkle, little star, \n",
      " \t How I wonder what you are\n"
     ]
    }
   ],
   "source": [
    "# 3. Write a Python program to print the following string in a specific format (see the output). Go to the editor\n",
    "# Sample String : \"Twinkle, twinkle, little star, How I wonder what you are! Up above the world so high, Like a diamond in the sky. Twinkle, twinkle, little star, How I wonder what you are\" Output :\n",
    "\n",
    "# Twinkle, twinkle, little star,\n",
    "# \tHow I wonder what you are! \n",
    "# \t\tUp above the world so high,   \t\t\n",
    "# \t\tLike a diamond in the sky. \n",
    "# Twinkle, twinkle, little star, \n",
    "# \tHow I wonder what you are\n",
    "\n",
    "print(\"Twinkle, twinkle, little star,\\n \\t How I wonder what you are! \\n \\t\\t Up above the world so high,\\n \\t\\t Like a diamond in the sky. \\n Twinkle, twinkle, little star, \\n \\t How I wonder what you are\")\n"
   ]
  },
  {
   "cell_type": "code",
   "execution_count": null,
   "metadata": {},
   "outputs": [],
   "source": []
  },
  {
   "cell_type": "code",
   "execution_count": null,
   "metadata": {},
   "outputs": [],
   "source": [
    "# 4. Odd or Even\n",
    "# Ask the user for a number. \n",
    "#Depending on whether the number is even or odd, print out an appropriate message to the user.\n",
    "\n",
    "\n",
    "num=int(input(\"Enetr the number to check number is even or odd : \"))\n",
    "print(num)\n",
    "\n",
    "if num%2==0:\n",
    "    print(\"Number is Even.\")\n",
    "else:\n",
    "    print(\"Number is Odd.\")"
   ]
  },
  {
   "cell_type": "code",
   "execution_count": null,
   "metadata": {},
   "outputs": [],
   "source": []
  },
  {
   "cell_type": "code",
   "execution_count": null,
   "metadata": {},
   "outputs": [],
   "source": [
    "# 5. Write a Python program which accepts the radius of a circle from the user and compute the area\n",
    "# Sample Output : \n",
    "# r = 1.1\n",
    "# Area = 3.8013271108436504\n",
    "import math\n",
    "print(\"Enter the radius : \")\n",
    "radius=int(input())\n",
    "area=math.pi*radius*radius\n",
    "print(\"Area of Cirecle : \" ,area)"
   ]
  },
  {
   "cell_type": "code",
   "execution_count": null,
   "metadata": {},
   "outputs": [],
   "source": []
  },
  {
   "cell_type": "code",
   "execution_count": null,
   "metadata": {},
   "outputs": [],
   "source": [
    "# 6. Write a Python program which accepts a sequence of comma-separated numbers from user and \n",
    "# generate a list and a tuple with those numbers\n",
    "# Sample data : 3, 5, 7, 23\n",
    "# Output : \n",
    "# List : ['3', ' 5', ' 7', ' 23'] \n",
    "# Tuple : ('3', ' 5', ' 7', ' 23')\n",
    "\n",
    "\n",
    "numbers = input(\"enter the values :\")\n",
    "list_num = numbers.split(\",\")\n",
    "tuple_num= tuple(numbers.split(\",\"))\n",
    "print(\"list: \",list_num)\n",
    "print(\"tuple: \",tuple_num)"
   ]
  },
  {
   "cell_type": "code",
   "execution_count": null,
   "metadata": {},
   "outputs": [],
   "source": []
  },
  {
   "cell_type": "code",
   "execution_count": null,
   "metadata": {},
   "outputs": [],
   "source": [
    "# 7. Write a Python program to accept a filename from the user and print the extension of that. \n",
    "\n",
    "file_name=input(\"Enter the file name to know the extension of file :  \")\n",
    "\n",
    "file_extension=file_name.split(\".\")\n",
    "print(file_extension)\n",
    "\n",
    "print(file_extension[len(file_extension)-1])"
   ]
  },
  {
   "cell_type": "code",
   "execution_count": null,
   "metadata": {},
   "outputs": [],
   "source": []
  },
  {
   "cell_type": "code",
   "execution_count": null,
   "metadata": {},
   "outputs": [],
   "source": [
    "# 8. Write a Python program to display the first and last values from the following list. Go to the editor\n",
    "# color_list = [\"Red\",\"Green\",\"White\" ,\"Black\"]\n",
    "\n",
    "color_list = [\"Red\",\"Green\",\"White\" ,\"Black\",\"Blue\"]\n",
    "\n",
    "print(color_list[0])\n",
    "print(color_list[-1])\n",
    "\n"
   ]
  },
  {
   "cell_type": "code",
   "execution_count": null,
   "metadata": {},
   "outputs": [],
   "source": []
  },
  {
   "cell_type": "code",
   "execution_count": null,
   "metadata": {},
   "outputs": [],
   "source": [
    "# 9. Write a Python program that accepts an integer (n) and computes the value of n+nn+nnn.\n",
    "# Sample value of n is 5 \n",
    "# Expected Result : 615\n",
    "\n",
    "\n",
    "n=str(input(\"Enter the value of n :\"))\n",
    "val1=n+n\n",
    "val2=(n+n+n)\n",
    "\n",
    "value=int(n)+int(val1)+int(val2)\n",
    "print(value)\n",
    "\n"
   ]
  },
  {
   "cell_type": "code",
   "execution_count": null,
   "metadata": {},
   "outputs": [],
   "source": []
  },
  {
   "cell_type": "code",
   "execution_count": null,
   "metadata": {},
   "outputs": [],
   "source": [
    "# 10. Write a Python program to print the calendar of a given month and year.\n",
    "# Note : Use 'calendar' module.'\n",
    "\n",
    "import calendar\n",
    "\n",
    "cal=calendar.TextCalendar(calendar.SUNDAY)\n",
    "res=cal.formatmonth(2018,1)\n",
    "print(res)"
   ]
  },
  {
   "cell_type": "code",
   "execution_count": null,
   "metadata": {},
   "outputs": [],
   "source": []
  },
  {
   "cell_type": "code",
   "execution_count": 89,
   "metadata": {},
   "outputs": [
    {
     "name": "stdout",
     "output_type": "stream",
     "text": [
      "1\n",
      "1\n",
      "2\n",
      "3\n"
     ]
    }
   ],
   "source": [
    "# 11. Take a list, say for example this one:\n",
    "\n",
    "#   a = [1, 1, 2, 3, 5, 8, 13, 21, 34, 55, 89]\n",
    "# and write a program that prints out all the elements of the list that are less than 5.\n",
    "\n",
    "a = [1, 1, 2, 3, 5, 8, 13, 21, 34, 55, 89]\n",
    "\n",
    "for x in a:\n",
    "    if(x<5):\n",
    "        print(x)\n",
    "        \n"
   ]
  },
  {
   "cell_type": "code",
   "execution_count": null,
   "metadata": {},
   "outputs": [],
   "source": []
  },
  {
   "cell_type": "code",
   "execution_count": null,
   "metadata": {},
   "outputs": [],
   "source": [
    "# 12. Write a Python program to calculate the sum of three given numbers, \n",
    "# if the values are equal then return thrice of their sum.\n",
    "\n",
    "a=int(input(\"Enter the first number :\"))\n",
    "b=int(input(\"Enter the second number :\"))\n",
    "c=int(input(\"Enter the third number :\"))\n",
    "sum=a+b+c\n",
    "if(a==b==c):\n",
    "    print(\"if the values are equal then thrice of their sum is : \")\n",
    "    print(3*sum)\n",
    "else:\n",
    "    print(\"the sum of three given numbers\")\n",
    "    print(sum)\n"
   ]
  },
  {
   "cell_type": "code",
   "execution_count": null,
   "metadata": {},
   "outputs": [],
   "source": []
  },
  {
   "cell_type": "code",
   "execution_count": null,
   "metadata": {},
   "outputs": [],
   "source": [
    "# 13. Write a Python program to concatenate all elements in a list into a string and return it.\n",
    "\n",
    "\n",
    "list=[\"aaa\",\"bbb\",\"ccc\",\"ddd\"]\n",
    "res=\"\"\n",
    "for x in list:\n",
    "    res+=str(x)\n",
    "print(res)\n"
   ]
  },
  {
   "cell_type": "code",
   "execution_count": null,
   "metadata": {},
   "outputs": [],
   "source": []
  },
  {
   "cell_type": "code",
   "execution_count": null,
   "metadata": {},
   "outputs": [],
   "source": [
    "# 14. Create a program that asks the user for a number and then prints out a list of all the divisors of that number.\n",
    "# num = int(input(\"Please choose a number to divide: \"))\n",
    "\n",
    "num = int(input(\"Please choose a number to divide: \"))\n",
    "print(\"list of all the divisors of that number : \")\n",
    "for x in  range(1,num+1) :\n",
    "    if (num%x==0):\n",
    "        print(x)\n",
    "    \n",
    "            \n",
    "\n",
    "\n",
    "    \n",
    "    \n"
   ]
  },
  {
   "cell_type": "code",
   "execution_count": null,
   "metadata": {},
   "outputs": [],
   "source": []
  },
  {
   "cell_type": "code",
   "execution_count": null,
   "metadata": {},
   "outputs": [],
   "source": [
    "# 15. Make a two-player Rock-Paper-Scissors game. \n",
    "# (Hint: Ask for player plays (using input), compare them, print out a message of congratulations to the winner,\n",
    "# and ask if the players want to start a new game)\n",
    "\n",
    "# The rules:\n",
    "# Rock beats scissors\n",
    "# Scissors beats paper\n",
    "# Paper beats rock\n",
    "\n"
   ]
  },
  {
   "cell_type": "code",
   "execution_count": null,
   "metadata": {},
   "outputs": [],
   "source": []
  },
  {
   "cell_type": "code",
   "execution_count": null,
   "metadata": {},
   "outputs": [],
   "source": [
    "# 16. Write a program that asks the user how many Fibonnaci numbers to generate and then generates them.\n",
    "# Take this opportunity to think about how you can use functions.\n",
    "# Make sure to ask the user to enter the number of numbers in the sequence to generate.\n",
    "# (Hint: The Fibonnaci seqence is a sequence of numbers where the next number in the sequence is the sum of the \n",
    "# previous two numbers in the sequence. The sequence looks like this: 1, 1, 2, 3, 5, 8, 13, ů)\n",
    "\n",
    "\n",
    "num = int(input(\"Please enter number for how many Fibonnaci numbers to generate :\"))\n",
    "\n",
    "\n",
    "\n",
    "def fibonnaci_numbers(num):\n",
    "    f1=0\n",
    "    f2=1\n",
    "    for x in  range(0,num+1) :\n",
    "        \n",
    "        f3=f1+f2\n",
    "        f1=f2\n",
    "        f2=f3\n",
    "        print(f3,end=' ')\n",
    "        \n",
    "fibonnaci_numbers(num)"
   ]
  },
  {
   "cell_type": "code",
   "execution_count": null,
   "metadata": {},
   "outputs": [],
   "source": []
  },
  {
   "cell_type": "code",
   "execution_count": null,
   "metadata": {},
   "outputs": [],
   "source": [
    "# 17. Ask the user for a string and print out whether this string is a palindrome or not. \n",
    "# (A palindrome is a string that reads the same forwards and backwards.)\n",
    "\n",
    "num =input(\"Please enter string to to check palindrom or not:\")\n",
    "ori=num\n",
    "rev=\"\"\n",
    "for x in num:\n",
    "    rev=x+rev\n",
    "\n",
    "if (ori==rev):\n",
    "    print(\"Given string is palindrom.\")\n",
    "else:\n",
    "    print(\"Given string is not palindrom.\")"
   ]
  },
  {
   "cell_type": "code",
   "execution_count": null,
   "metadata": {},
   "outputs": [],
   "source": []
  },
  {
   "cell_type": "code",
   "execution_count": null,
   "metadata": {},
   "outputs": [],
   "source": [
    "# 18. Implement a function that takes as input three variables, and returns the largest of the three.\n",
    "# Do this without using the Python max() function!\n",
    "\n",
    "def max_num(a,b,c):\n",
    "    if(a>b and a>c):\n",
    "        print(\"maximum no. is :\" ,a)\n",
    "    elif(b>a and b>c):\n",
    "         print(\"maximum no. is :\" ,b)\n",
    "    else:\n",
    "         print(\"maximum no. is :\" ,c)\n",
    "            \n",
    "num1=int(input(\"enetr the first no. :\"))\n",
    "num2=int(input(\"enetr the first no. :\"))\n",
    "num3=int(input(\"enetr the first no. :\"))\n",
    "\n",
    "max_num(num1,num2,num3)"
   ]
  },
  {
   "cell_type": "code",
   "execution_count": null,
   "metadata": {},
   "outputs": [],
   "source": []
  },
  {
   "cell_type": "code",
   "execution_count": null,
   "metadata": {},
   "outputs": [],
   "source": [
    "# 19. Generate a random number between 1 and 9 (including 1 and 9). \n",
    "# Ask the user to guess the number, then tell them whether they guessed too low, too high, or exactly right. \n",
    "# (Hint: remember to use the user input lessons from the very first exercise)\n",
    "# import random\n",
    "\n",
    "import random\n",
    "\n",
    "num=int(input(\"Please enter the number  :\"))\n",
    "ran_num=random.randint(1,10)\n",
    "print(\"Random no. is :\",ran_num)\n",
    "if(num>ran_num):\n",
    "    print(\"Your guessed no. is too high\")\n",
    "elif(num<ran_num):\n",
    "    print(\"Your guessed no. is too low\")\n",
    "else:\n",
    "     print(\"Your guessed no. is exactly right \")"
   ]
  },
  {
   "cell_type": "code",
   "execution_count": null,
   "metadata": {},
   "outputs": [],
   "source": []
  },
  {
   "cell_type": "code",
   "execution_count": 7,
   "metadata": {},
   "outputs": [
    {
     "name": "stdout",
     "output_type": "stream",
     "text": [
      "/Users/appxbuild/Desktop/Python/Practical_task\n"
     ]
    }
   ],
   "source": [
    "# 20. Write a python program to get the path and name of the file that is currently executing.\n",
    "\n",
    "import os\n",
    "print(os.path.abspath('Practical_task'))"
   ]
  },
  {
   "cell_type": "code",
   "execution_count": null,
   "metadata": {},
   "outputs": [],
   "source": []
  },
  {
   "cell_type": "code",
   "execution_count": 13,
   "metadata": {},
   "outputs": [
    {
     "name": "stdout",
     "output_type": "stream",
     "text": [
      "['.ipynb_checkpoints', 'dictionary.ipynb', 'operators.ipynb', 'Practical_task.ipynb', 'python_function.ipynb']\n"
     ]
    }
   ],
   "source": [
    "# 21. Write a Python program to list all files in a directory in Python\n",
    "\n",
    "\n",
    "import os\n",
    "arr = os.listdir()\n",
    "print(arr)"
   ]
  },
  {
   "cell_type": "code",
   "execution_count": null,
   "metadata": {},
   "outputs": [],
   "source": []
  },
  {
   "cell_type": "code",
   "execution_count": null,
   "metadata": {},
   "outputs": [],
   "source": [
    "# 22. Write a python program to sum of the first n positive integers\n",
    "\n",
    "num = int(input(\"Please enter the value of n to sum of the first n positive integers :\"))\n",
    "sum=0\n",
    "for x in  range(1,num+1) :\n",
    "    sum=x+sum\n",
    "print (sum)\n"
   ]
  },
  {
   "cell_type": "code",
   "execution_count": null,
   "metadata": {},
   "outputs": [],
   "source": []
  },
  {
   "cell_type": "code",
   "execution_count": null,
   "metadata": {},
   "outputs": [],
   "source": [
    "# 23. Write a Python program to compute the future value of a specified principal amount, rate of interest, \n",
    "# and a number of years.\n",
    "\n"
   ]
  },
  {
   "cell_type": "code",
   "execution_count": null,
   "metadata": {},
   "outputs": [],
   "source": []
  },
  {
   "cell_type": "code",
   "execution_count": 33,
   "metadata": {},
   "outputs": [
    {
     "name": "stdout",
     "output_type": "stream",
     "text": [
      "Enetr the distance (in feet):10\n",
      "Distance in inches : 120\n",
      "Distance in yards : 3.3333333333333335\n",
      "Distance in miles : 0.001893939393939394\n"
     ]
    }
   ],
   "source": [
    "# 24. Write a Python program to convert the distance (in feet) to inches, yards, and miles.\n",
    "\n",
    "distance=int(input(\"Enetr the distance (in feet):\"))\n",
    "\n",
    "inches=distance*12\n",
    "yards=distance/3\n",
    "miles=distance/5280\n",
    "\n",
    "print(\"Distance in inches :\",inches)\n",
    "print(\"Distance in yards :\",yards)\n",
    "\n",
    "\n",
    "print(\"Distance in miles :\",miles)"
   ]
  },
  {
   "cell_type": "code",
   "execution_count": null,
   "metadata": {},
   "outputs": [],
   "source": []
  },
  {
   "cell_type": "code",
   "execution_count": 13,
   "metadata": {},
   "outputs": [
    {
     "name": "stdout",
     "output_type": "stream",
     "text": [
      "16\n"
     ]
    }
   ],
   "source": [
    "# 25. Write a Python program to calculate the sum of the digits in an integer\n",
    "# Example: Input = 5245 => 5 + 2 + 4 + 5 = 16\n",
    "\n",
    "num=5245\n",
    "c= len(str(num)) \n",
    "i=0\n",
    "sum=0\n",
    "while i<c:\n",
    "    rem=int(num%10)\n",
    "    num=num/10\n",
    "    sum+=rem\n",
    "    \n",
    "    i+=1\n",
    "print(int(sum))"
   ]
  },
  {
   "cell_type": "code",
   "execution_count": null,
   "metadata": {},
   "outputs": [],
   "source": []
  },
  {
   "cell_type": "code",
   "execution_count": 29,
   "metadata": {},
   "outputs": [
    {
     "data": {
      "text/plain": [
       "28"
      ]
     },
     "execution_count": 29,
     "metadata": {},
     "output_type": "execute_result"
    }
   ],
   "source": [
    "# 26. Write a Python program to get the size of an object in bytes.\n",
    "\n",
    "import sys\n",
    "x = 2\n",
    "sys.getsizeof(x)\n"
   ]
  },
  {
   "cell_type": "code",
   "execution_count": null,
   "metadata": {},
   "outputs": [],
   "source": []
  },
  {
   "cell_type": "code",
   "execution_count": 91,
   "metadata": {},
   "outputs": [
    {
     "name": "stdout",
     "output_type": "stream",
     "text": [
      "* \n",
      "\n",
      "* * \n",
      "\n",
      "* * * \n",
      "\n",
      "* * * * \n",
      "\n",
      "* * * * * \n",
      "\n",
      "* * * * \n",
      "\n",
      "* * * \n",
      "\n",
      "* * \n",
      "\n",
      "* \n",
      "\n",
      "\n",
      "\n",
      "\n",
      "\n"
     ]
    }
   ],
   "source": [
    "# 27. Write a Python program to construct the following pattern, using a nested for loop.\n",
    "\n",
    "# * \n",
    "# * * \n",
    "# * * * \n",
    "# * * * * \n",
    "# * * * * * \n",
    "# * * * * \n",
    "# * * * \n",
    "# * * \n",
    "# *\n",
    "\n",
    "\n",
    "for x in range(0,5):\n",
    "    for y in range(0,x+1):\n",
    "        print(\"* \",end=\"\")\n",
    "        if(y==5):\n",
    "            break\n",
    "   \n",
    "    print(\"\\n\") \n",
    "for x in range(4-1,9):\n",
    "    for y in range(x-1,7-1):\n",
    "        print(\"* \",end=\"\")\n",
    "   \n",
    "    print(\"\\n\") "
   ]
  },
  {
   "cell_type": "code",
   "execution_count": null,
   "metadata": {},
   "outputs": [],
   "source": []
  },
  {
   "cell_type": "code",
   "execution_count": 34,
   "metadata": {},
   "outputs": [
    {
     "name": "stdout",
     "output_type": "stream",
     "text": [
      "***\n",
      "\n",
      "*   *   \n",
      "\n",
      "*   *   \n",
      "\n",
      "*****\n",
      "\n",
      "*   *   \n",
      "\n",
      "*   *   \n",
      "\n",
      "*   *   "
     ]
    }
   ],
   "source": [
    "# 28. Write a Python program to print alphabet pattern 'A'. Go to the editor\n",
    "# Expected Output:\n",
    "\n",
    "#   ***                                                                   \n",
    "#  *   *                                                                  \n",
    "#  *   *                                                                  \n",
    "#  *****                                                                  \n",
    "#  *   *                                                                  \n",
    "#  *   *                                                                  \n",
    "#  *   *\n",
    "\n",
    "\n",
    "for x in range (1,2):\n",
    "    for y in range (2,5):\n",
    "          \n",
    "            print(\"*\",end=\"\")\n",
    "    \n",
    "for x in range(1,3):\n",
    "    print(\"\\n\"),\n",
    "    for y in range(2,4):\n",
    "        print(\"*\",end=\"   \")\n",
    "           \n",
    "for x in range (0,1):\n",
    "    print(\"\\n\")\n",
    "    for y in range (1,6):\n",
    "        print(\"*\",end=\"\")\n",
    "                \n",
    "for x in range(1,4):\n",
    "    print(\"\\n\")\n",
    "    for y in range(1,3):\n",
    "        print(\"*\",end=\"   \")\n"
   ]
  },
  {
   "cell_type": "code",
   "execution_count": null,
   "metadata": {},
   "outputs": [],
   "source": []
  },
  {
   "cell_type": "code",
   "execution_count": 2,
   "metadata": {},
   "outputs": [
    {
     "name": "stdout",
     "output_type": "stream",
     "text": [
      "Please enter the password :Raksha@1007\n",
      "Your Password Valid.\n"
     ]
    }
   ],
   "source": [
    "# 29. Write a Python program to check the validity of password input by users. \n",
    "# Validation :\n",
    "# At least 1 letter between [a-z] and 1 letter between [A-Z].\n",
    "# At least 1 number between [0-9].\n",
    "# At least 1 character from [$#@].\n",
    "# Minimum length 6 characters.\n",
    "# Maximum length 16 characters.\n",
    "\n",
    "import re\n",
    "password=input(\"Please enter the password :\")\n",
    "length=len(password)\n",
    "fl=0\n",
    "while True:\n",
    "    if(length<6 or length>16):\n",
    "        fl=-1\n",
    "        break\n",
    "    elif not re.search(\"[a-z]\",password):\n",
    "        fl=-1\n",
    "        break\n",
    "    elif not re.search(\"[A-Z]\",password):\n",
    "        fl=-1\n",
    "        break\n",
    "    elif not re.search(\"[0-9]\",password):\n",
    "        fl=-1\n",
    "        break\n",
    "    elif not re.search(\"[#$@]\",password):\n",
    "        fl=-1\n",
    "        break\n",
    "    else:\n",
    "        fl=0\n",
    "        print(\"Your Password Valid.\")\n",
    "        break\n",
    "        \n",
    "if(fl==-1):\n",
    "    print(\"Your password not valid.\")\n",
    "  \n",
    "    "
   ]
  },
  {
   "cell_type": "code",
   "execution_count": null,
   "metadata": {},
   "outputs": [],
   "source": []
  },
  {
   "cell_type": "code",
   "execution_count": 22,
   "metadata": {},
   "outputs": [
    {
     "name": "stdout",
     "output_type": "stream",
     "text": [
      ".: 1\n",
      "c: 1\n",
      "e: 1\n",
      "g: 2\n",
      "l: 1\n",
      "m: 1\n",
      "o: 3\n"
     ]
    }
   ],
   "source": [
    "# 30. Write a Python program to count the number of times each character occurs (character frequency) in a string\n",
    "# Sample String : google.com'\n",
    "# Expected Result : {'o': 3, 'g': 2, '.': 1, 'e': 1, 'l': 1, 'm': 1, 'c': 1}\n",
    "\n",
    "\n",
    "\n",
    "def count_dict(mystring):\n",
    "    d = {}\n",
    "\n",
    "    for w in mystring: \n",
    "        d[w] = mystring.count(w)\n",
    "\n",
    "    for k in sorted(d):\n",
    "        \n",
    "        print (k + ': ' + str(d[k]))\n",
    "\n",
    "mystring='google.com'\n",
    "count_dict(mystring)"
   ]
  },
  {
   "cell_type": "code",
   "execution_count": null,
   "metadata": {},
   "outputs": [],
   "source": []
  }
 ],
 "metadata": {
  "kernelspec": {
   "display_name": "Python 3",
   "language": "python",
   "name": "python3"
  }
 },
 "nbformat": 4,
 "nbformat_minor": 2
}
