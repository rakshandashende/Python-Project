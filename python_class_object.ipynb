{
 "cells": [
  {
   "cell_type": "code",
   "execution_count": 6,
   "metadata": {},
   "outputs": [
    {
     "name": "stdout",
     "output_type": "stream",
     "text": [
      "Name : Rakshanda\n",
      "Age : 22\n",
      "Subject : Python\n",
      "Marks : 100\n"
     ]
    }
   ],
   "source": [
    "class Student:\n",
    "    def __init__(self,name,age,subject,marks):\n",
    "        self.name=name\n",
    "        self.age=age\n",
    "        self.subject=subject\n",
    "        self.marks=marks\n",
    "        \n",
    "s=Student(\"Rakshanda\",22,\"Python\",100)\n",
    "print(\"Name :\" , s.name)\n",
    "print(\"Age :\", s.age)\n",
    "print(\"Subject :\", s.subject)\n",
    "print(\"Marks :\",s.marks)"
   ]
  },
  {
   "cell_type": "code",
   "execution_count": null,
   "metadata": {},
   "outputs": [],
   "source": []
  },
  {
   "cell_type": "code",
   "execution_count": 30,
   "metadata": {},
   "outputs": [
    {
     "name": "stdout",
     "output_type": "stream",
     "text": [
      "Name : Rakshanda\n",
      "Age : 22\n",
      "Subject : Python\n",
      "Marks : 100\n",
      "\n",
      "My Detail  : Rakshanda 22 Python 100\n"
     ]
    }
   ],
   "source": [
    "class Student:\n",
    "    def __init__(self,name,age,subject,marks):\n",
    "        self.name=name\n",
    "        self.age=age\n",
    "        self.subject=subject\n",
    "        self.marks=marks\n",
    "    \n",
    "    def show(self):\n",
    "        print(\"My Detail  :\" , self.name  , self.age , self.subject , self.marks)\n",
    "        \n",
    "s=Student(\"Rakshanda\",22,\"Python\",100)\n",
    "print(\"Name :\" , s.name)\n",
    "print(\"Age :\", s.age)\n",
    "print(\"Subject :\", s.subject)\n",
    "print(\"Marks :\",s.marks)\n",
    "print(\"\")\n",
    "s.show()"
   ]
  },
  {
   "cell_type": "code",
   "execution_count": null,
   "metadata": {},
   "outputs": [],
   "source": []
  },
  {
   "cell_type": "code",
   "execution_count": 31,
   "metadata": {},
   "outputs": [
    {
     "name": "stdout",
     "output_type": "stream",
     "text": [
      "Enter Your Name :Rakshanda\n",
      "Enter Your Age :22\n",
      "Enter Your Subject :Pyhton\n",
      "Enter Your Marks :445\n",
      "\n",
      "Name : Rakshanda\n",
      "Age : 22\n",
      "Subject : Pyhton\n",
      "Marks : 445.0\n",
      "\n",
      "My Detail is : Rakshanda 22 Pyhton Pyhton\n"
     ]
    }
   ],
   "source": [
    "name=input(\"Enter Your Name :\")\n",
    "age=int(input(\"Enter Your Age :\"))\n",
    "subject=input(\"Enter Your Subject :\")\n",
    "marks=float(input(\"Enter Your Marks :\"))\n",
    "\n",
    "\n",
    "class Student:\n",
    "    def __init__(self,name,age,subject,marks):\n",
    "        self.name=name\n",
    "        self.age=age\n",
    "        self.subject=subject\n",
    "        self.marks=marks\n",
    "    \n",
    "    def show(self):\n",
    "        print(\"My Detail is :\",  self.name, self.age, self.subject, self.mark)\n",
    "        \n",
    "s=Student(name,age,subject,marks)\n",
    "print(\"\")\n",
    "print(\"Name :\" , s.name)\n",
    "print(\"Age :\", s.age)\n",
    "print(\"Subject :\", s.subject)\n",
    "print(\"Marks :\",s.marks)\n",
    "print(\"\")\n",
    "s.show()"
   ]
  },
  {
   "cell_type": "code",
   "execution_count": null,
   "metadata": {},
   "outputs": [],
   "source": []
  },
  {
   "cell_type": "code",
   "execution_count": null,
   "metadata": {},
   "outputs": [],
   "source": []
  },
  {
   "cell_type": "code",
   "execution_count": null,
   "metadata": {},
   "outputs": [],
   "source": []
  }
 ],
 "metadata": {
  "kernelspec": {
   "display_name": "Python 3",
   "language": "python",
   "name": "python3"
  },
  "language_info": {
   "codemirror_mode": {
    "name": "ipython",
    "version": 3
   },
   "file_extension": ".py",
   "mimetype": "text/x-python",
   "name": "python",
   "nbconvert_exporter": "python",
   "pygments_lexer": "ipython3",
   "version": "3.7.0"
  }
 },
 "nbformat": 4,
 "nbformat_minor": 2
}
